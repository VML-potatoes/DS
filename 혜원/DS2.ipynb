{
 "cells": [
  {
   "cell_type": "markdown",
   "metadata": {},
   "source": [
    "### 데이터사이언스"
   ]
  },
  {
   "cell_type": "code",
   "execution_count": 11,
   "metadata": {},
   "outputs": [],
   "source": [
    "import csv\n",
    "import pandas as pd\n",
    "\n",
    "from datetime import datetime\n",
    "import matplotlib.pyplot as plt\n",
    "import seaborn as sns"
   ]
  },
  {
   "cell_type": "code",
   "execution_count": 12,
   "metadata": {},
   "outputs": [],
   "source": [
    "train_data = pd.read_csv('DS-main/datas/train.csv')\n",
    "test_data = pd.read_csv('DS-main/datas/test.csv')"
   ]
  },
  {
   "cell_type": "code",
   "execution_count": 14,
   "metadata": {},
   "outputs": [
    {
     "ename": "KeyError",
     "evalue": "\"['IsFraud', 'Avg Price per Merchandise Code'] not in index\"",
     "output_type": "error",
     "traceback": [
      "\u001b[1;31m---------------------------------------------------------------------------\u001b[0m",
      "\u001b[1;31mKeyError\u001b[0m                                  Traceback (most recent call last)",
      "Cell \u001b[1;32mIn[14], line 50\u001b[0m\n\u001b[0;32m     44\u001b[0m columns_to_save \u001b[38;5;241m=\u001b[39m [ \u001b[38;5;124m'\u001b[39m\u001b[38;5;124mIsFraud\u001b[39m\u001b[38;5;124m'\u001b[39m,    \u001b[38;5;124m'\u001b[39m\u001b[38;5;124mCurrent Date\u001b[39m\u001b[38;5;124m'\u001b[39m, \u001b[38;5;124m'\u001b[39m\u001b[38;5;124mCredit Limit Volatility\u001b[39m\u001b[38;5;124m'\u001b[39m, \n\u001b[0;32m     45\u001b[0m     \u001b[38;5;124m'\u001b[39m\u001b[38;5;124mIncome Change Since Account Open\u001b[39m\u001b[38;5;124m'\u001b[39m, \u001b[38;5;124m'\u001b[39m\u001b[38;5;124mCredit Score Group\u001b[39m\u001b[38;5;124m'\u001b[39m, \u001b[38;5;124m'\u001b[39m\u001b[38;5;124mChip Used\u001b[39m\u001b[38;5;124m'\u001b[39m, \u001b[38;5;124m'\u001b[39m\u001b[38;5;124mSecurity Updated\u001b[39m\u001b[38;5;124m'\u001b[39m, \n\u001b[0;32m     46\u001b[0m     \u001b[38;5;124m'\u001b[39m\u001b[38;5;124mCredit Score to Limit Ratio\u001b[39m\u001b[38;5;124m'\u001b[39m, \u001b[38;5;124m'\u001b[39m\u001b[38;5;124mSecurity Status\u001b[39m\u001b[38;5;124m'\u001b[39m, \u001b[38;5;124m'\u001b[39m\u001b[38;5;124mYears to Retirement\u001b[39m\u001b[38;5;124m'\u001b[39m, \u001b[38;5;124m'\u001b[39m\u001b[38;5;124mDebt to Income Ratio\u001b[39m\u001b[38;5;124m'\u001b[39m, \n\u001b[0;32m     47\u001b[0m     \u001b[38;5;124m'\u001b[39m\u001b[38;5;124mAvg Price per Merchandise Code\u001b[39m\u001b[38;5;124m'\u001b[39m\n\u001b[0;32m     48\u001b[0m ]\n\u001b[0;32m     49\u001b[0m \u001b[38;5;66;03m# 새로운 데이터를 train_user.csv로 저장\u001b[39;00m\n\u001b[1;32m---> 50\u001b[0m train_data[columns_to_save]\u001b[38;5;241m.\u001b[39mto_csv(\u001b[38;5;124m'\u001b[39m\u001b[38;5;124mtrain_user.csv\u001b[39m\u001b[38;5;124m'\u001b[39m, index\u001b[38;5;241m=\u001b[39m\u001b[38;5;28;01mFalse\u001b[39;00m)\n",
      "File \u001b[1;32mc:\\Users\\vml\\anaconda3\\Lib\\site-packages\\pandas\\core\\frame.py:3813\u001b[0m, in \u001b[0;36mDataFrame.__getitem__\u001b[1;34m(self, key)\u001b[0m\n\u001b[0;32m   3811\u001b[0m     \u001b[38;5;28;01mif\u001b[39;00m is_iterator(key):\n\u001b[0;32m   3812\u001b[0m         key \u001b[38;5;241m=\u001b[39m \u001b[38;5;28mlist\u001b[39m(key)\n\u001b[1;32m-> 3813\u001b[0m     indexer \u001b[38;5;241m=\u001b[39m \u001b[38;5;28mself\u001b[39m\u001b[38;5;241m.\u001b[39mcolumns\u001b[38;5;241m.\u001b[39m_get_indexer_strict(key, \u001b[38;5;124m\"\u001b[39m\u001b[38;5;124mcolumns\u001b[39m\u001b[38;5;124m\"\u001b[39m)[\u001b[38;5;241m1\u001b[39m]\n\u001b[0;32m   3815\u001b[0m \u001b[38;5;66;03m# take() does not accept boolean indexers\u001b[39;00m\n\u001b[0;32m   3816\u001b[0m \u001b[38;5;28;01mif\u001b[39;00m \u001b[38;5;28mgetattr\u001b[39m(indexer, \u001b[38;5;124m\"\u001b[39m\u001b[38;5;124mdtype\u001b[39m\u001b[38;5;124m\"\u001b[39m, \u001b[38;5;28;01mNone\u001b[39;00m) \u001b[38;5;241m==\u001b[39m \u001b[38;5;28mbool\u001b[39m:\n",
      "File \u001b[1;32mc:\\Users\\vml\\anaconda3\\Lib\\site-packages\\pandas\\core\\indexes\\base.py:6070\u001b[0m, in \u001b[0;36mIndex._get_indexer_strict\u001b[1;34m(self, key, axis_name)\u001b[0m\n\u001b[0;32m   6067\u001b[0m \u001b[38;5;28;01melse\u001b[39;00m:\n\u001b[0;32m   6068\u001b[0m     keyarr, indexer, new_indexer \u001b[38;5;241m=\u001b[39m \u001b[38;5;28mself\u001b[39m\u001b[38;5;241m.\u001b[39m_reindex_non_unique(keyarr)\n\u001b[1;32m-> 6070\u001b[0m \u001b[38;5;28mself\u001b[39m\u001b[38;5;241m.\u001b[39m_raise_if_missing(keyarr, indexer, axis_name)\n\u001b[0;32m   6072\u001b[0m keyarr \u001b[38;5;241m=\u001b[39m \u001b[38;5;28mself\u001b[39m\u001b[38;5;241m.\u001b[39mtake(indexer)\n\u001b[0;32m   6073\u001b[0m \u001b[38;5;28;01mif\u001b[39;00m \u001b[38;5;28misinstance\u001b[39m(key, Index):\n\u001b[0;32m   6074\u001b[0m     \u001b[38;5;66;03m# GH 42790 - Preserve name from an Index\u001b[39;00m\n",
      "File \u001b[1;32mc:\\Users\\vml\\anaconda3\\Lib\\site-packages\\pandas\\core\\indexes\\base.py:6133\u001b[0m, in \u001b[0;36mIndex._raise_if_missing\u001b[1;34m(self, key, indexer, axis_name)\u001b[0m\n\u001b[0;32m   6130\u001b[0m     \u001b[38;5;28;01mraise\u001b[39;00m \u001b[38;5;167;01mKeyError\u001b[39;00m(\u001b[38;5;124mf\u001b[39m\u001b[38;5;124m\"\u001b[39m\u001b[38;5;124mNone of [\u001b[39m\u001b[38;5;132;01m{\u001b[39;00mkey\u001b[38;5;132;01m}\u001b[39;00m\u001b[38;5;124m] are in the [\u001b[39m\u001b[38;5;132;01m{\u001b[39;00maxis_name\u001b[38;5;132;01m}\u001b[39;00m\u001b[38;5;124m]\u001b[39m\u001b[38;5;124m\"\u001b[39m)\n\u001b[0;32m   6132\u001b[0m not_found \u001b[38;5;241m=\u001b[39m \u001b[38;5;28mlist\u001b[39m(ensure_index(key)[missing_mask\u001b[38;5;241m.\u001b[39mnonzero()[\u001b[38;5;241m0\u001b[39m]]\u001b[38;5;241m.\u001b[39munique())\n\u001b[1;32m-> 6133\u001b[0m \u001b[38;5;28;01mraise\u001b[39;00m \u001b[38;5;167;01mKeyError\u001b[39;00m(\u001b[38;5;124mf\u001b[39m\u001b[38;5;124m\"\u001b[39m\u001b[38;5;132;01m{\u001b[39;00mnot_found\u001b[38;5;132;01m}\u001b[39;00m\u001b[38;5;124m not in index\u001b[39m\u001b[38;5;124m\"\u001b[39m)\n",
      "\u001b[1;31mKeyError\u001b[0m: \"['IsFraud', 'Avg Price per Merchandise Code'] not in index\""
     ]
    }
   ],
   "source": [
    "\n",
    "\n",
    "# 현재 날짜 계산 (Year, Month, Day 컬럼 사용)\n",
    "train_data['Current Date'] = pd.to_datetime(train_data[['Year', 'Month', 'Day']])\n",
    "\n",
    "# 새로운 변수들 생성\n",
    "\n",
    "# 1. 신용 한도 변동성 (Credit Limit / Account Open Date)\n",
    "train_data['Acct Open Date'] = pd.to_datetime(train_data['Acct Open Date'])\n",
    "train_data['Account Duration'] = (train_data['Current Date'] - train_data['Acct Open Date']).dt.days\n",
    "train_data['Credit Limit Volatility'] = train_data['Credit Limit'] / train_data['Account Duration']\n",
    "\n",
    "# 2. 계좌 개설 후 소득 변동 (Per Capita Income / Account Open Date)\n",
    "train_data['Income Change Since Account Open'] = train_data['Per Capita Income - Zipcode'] / train_data['Account Duration']\n",
    "\n",
    "# 3. 사용자 신용 등급 그룹 (Credit Score / User)\n",
    "train_data['Credit Score Group'] = pd.qcut(train_data['Credit Score'], q=4, labels=['Low', 'Medium', 'High', 'Very High'])\n",
    "\n",
    "# 4. 보안 칩 사용 여부 (Security Chip Used / Has Chip)\n",
    "train_data['Chip Used'] = ((train_data['Has Chip'] == 'Yes') & (train_data['Whether Security Chip is Used'] == 'Yes')).astype(int)\n",
    "\n",
    "# 5. 보안 갱신 여부 (PIN Last Changed / Security Used)\n",
    "train_data['Security Updated'] = ((train_data['Year PIN last Changed'].notnull()) | (train_data['Whether Security Chip is Used'] == 'Yes')).astype(int)\n",
    "\n",
    "# 6. 신용 점수 대비 신용 한도 비율 (Credit Score / Credit Limit)\n",
    "train_data['Credit Score to Limit Ratio'] = train_data['Credit Score'] / train_data['Credit Limit']\n",
    "\n",
    "# 7. 보안 업데이트 상태 (Has Chip / PIN Last Changed)\n",
    "train_data['Security Status'] = ((train_data['Has Chip'] == 'Yes') & (train_data['Year PIN last Changed'].notnull())).astype(int)\n",
    "\n",
    "# 8. 은퇴까지 남은 기간 (Retirement Age / Current Age)\n",
    "train_data['Years to Retirement'] = train_data['Retirement Age'] - train_data['Current Age']\n",
    "\n",
    "# 9. 부채 대비 소득 비율 (Yearly Income / Total Debt)\n",
    "train_data['Debt to Income Ratio'] = train_data['Total Debt'] / train_data['Yearly Income']\n",
    "\n",
    "# Merchandise Code와 Price (Amount) 간의 평균 관계 생성\n",
    "merchandise_avg_price = train_data.groupby('Merchandise Code')['Amount'].mean().reset_index()\n",
    "merchandise_avg_price.columns = ['Merchandise Code', 'Avg Price per Merchandise Code']\n",
    "\n",
    "# train_data에 병합하여 새로운 변수 추가\n",
    "train_data = pd.merge(train_data, merchandise_avg_price, on='Merchandise Code', how='left')\n",
    "\n",
    "\n",
    "# Is Fraud 컬럼을 포함하여 저장\n",
    "columns_to_save = [ 'Is Fraud?',    'Current Date', 'Credit Limit Volatility', \n",
    "    'Income Change Since Account Open', 'Credit Score Group', 'Chip Used', 'Security Updated', \n",
    "    'Credit Score to Limit Ratio', 'Security Status', 'Years to Retirement', 'Debt to Income Ratio', \n",
    "    'Avg Price per Merchandise Code'\n",
    "]\n",
    "# 새로운 데이터를 train_user.csv로 저장\n",
    "train_data[columns_to_save].to_csv('train_user.csv', index=False)\n",
    "\n"
   ]
  },
  {
   "cell_type": "code",
   "execution_count": null,
   "metadata": {},
   "outputs": [],
   "source": [
    "# 데이터 불러오기\n",
    "train_data = pd.read_csv('train_user.csv')\n",
    "\n",
    "# 각 컬럼 간의 상관관계 계산\n",
    "corr_matrix = train_data.corr()\n",
    "\n",
    "# 히트맵 시각화\n",
    "plt.figure(figsize=(12, 8))\n",
    "sns.heatmap(corr_matrix, annot=True, fmt='.2f', cmap='coolwarm', cbar=True)\n",
    "\n",
    "# 그래프 제목 추가\n",
    "plt.title('Feature Correlation Heatmap')\n",
    "plt.show()"
   ]
  }
 ],
 "metadata": {
  "kernelspec": {
   "display_name": "base",
   "language": "python",
   "name": "python3"
  },
  "language_info": {
   "codemirror_mode": {
    "name": "ipython",
    "version": 3
   },
   "file_extension": ".py",
   "mimetype": "text/x-python",
   "name": "python",
   "nbconvert_exporter": "python",
   "pygments_lexer": "ipython3",
   "version": "3.11.7"
  }
 },
 "nbformat": 4,
 "nbformat_minor": 2
}
